{
  "nbformat": 4,
  "nbformat_minor": 0,
  "metadata": {
    "colab": {
      "private_outputs": true,
      "provenance": [],
      "gpuType": "T4"
    },
    "kernelspec": {
      "name": "python3",
      "display_name": "Python 3"
    },
    "language_info": {
      "name": "python"
    },
    "accelerator": "GPU"
  },
  "cells": [
    {
      "cell_type": "code",
      "execution_count": null,
      "metadata": {
        "id": "oVHWNWM8fyhp"
      },
      "outputs": [],
      "source": [
        "import tensorflow as tf\n",
        "from tensorflow.keras.datasets import mnist\n",
        "from tensorflow.keras.models import Sequential\n",
        "from tensorflow.keras.layers import Conv2D, MaxPooling2D, Flatten, Dense\n",
        "from tensorflow.keras.utils import to_categorical\n",
        "import matplotlib.pyplot as plt\n",
        "import numpy as np"
      ]
    },
    {
      "cell_type": "code",
      "source": [
        "# 1. Tải dữ liệu MNIST\n",
        "(x_train, y_train), (x_test, y_test) = mnist.load_data()"
      ],
      "metadata": {
        "id": "3rtxTmUMf9Kq"
      },
      "execution_count": null,
      "outputs": []
    },
    {
      "cell_type": "code",
      "source": [
        "# 2. Tiền xử lý\n",
        "# Reshape dữ liệu để phù hợp với đầu vào của CNN\n",
        "x_train = x_train.reshape((x_train.shape[0], 28, 28, 1)).astype('float32')\n",
        "x_test = x_test.reshape((x_test.shape[0], 28, 28, 1)).astype('float32')\n",
        "\n",
        "# Chuẩn hóa dữ liệu giá trị pixel từ [0, 255] về [0, 1]\n",
        "x_train /= 255\n",
        "x_test /= 255\n",
        "\n",
        "# Chuyển nhãn (label) sang dạng one-hot encoding\n",
        "y_train = to_categorical(y_train)\n",
        "y_test = to_categorical(y_test)\n",
        "\n",
        "print(f\"Kích thước dữ liệu huấn luyện: {x_train.shape}\")\n",
        "print(f\"Kích thước dữ liệu kiểm tra: {x_test.shape}\")"
      ],
      "metadata": {
        "id": "ooWWp23HgWyF"
      },
      "execution_count": null,
      "outputs": []
    },
    {
      "cell_type": "code",
      "source": [
        "# 3. Xây dưng mô hình CNN\n",
        "'''\n",
        "Trong ví dụ này, chúng ta sẽ sử dụng một mạng CNN có kiến trúc đơn giản, bao gồm:\n",
        "- Hai lớp tích chập, trong đó: lớp tích chập thứ nhất sử dụng 32 bộ lọc kích thước 3x3,\n",
        "lớp tích chập thứ hai sử dụng 64 bộ lọc kích thước 3x3.\n",
        "Cả hai lớp tích chập đều sử dụng stride = 2, padding = 0, và hàm kích hoạt ReLU.\n",
        "\n",
        "Theo sau mỗi lớp tích chập là một lớp max pooling.\n",
        "\n",
        "Hai lớp kết nối đầy đủ, trong đó: lớp kết nối đầy đủ thứ nhất có 128 neuron, và sử dụng hàm kích hoạt ReLU;\n",
        "lớp kết nối đầy đủ thứ hai (lớp đầu ra) có 10 neuron, tương ứng với 10 lớp cần phân loại, và sử dụng hàm kích hoạt Softmax.\n",
        "Đầu ra của CNN chính là xác suất để một hình ảnh thuộc về một trong 10 lớp từ 0 đến 9.\n",
        "'''"
      ],
      "metadata": {
        "id": "bHr5Ref8hhaf"
      },
      "execution_count": null,
      "outputs": []
    },
    {
      "cell_type": "code",
      "source": [
        "# Xây dựng mô hình CNN\n",
        "model = Sequential([\n",
        "    # Lớp tích chập thứ nhất với 32 bộ lọc kích thước 3x3, stride=2, padding =0\n",
        "    Conv2D(32, (3, 3), strides=(2,2), activation='relu', input_shape=(28, 28, 1)),\n",
        "    # Lớp max pooling với kích thước cửa sổ 2x2\n",
        "    MaxPooling2D((2, 2)),\n",
        "\n",
        "    #Lớp tích chập thứ 2 với 64 bộ lọc, kích thước 3x3, stride=2, padding=0\n",
        "    Conv2D(64, (3, 3), strides=(2,2), activation='relu'),\n",
        "    # Lớp max pooling với kích thước cửa sổ 2x2\n",
        "    MaxPooling2D((2, 2)),\n",
        "\n",
        "    #Làm phẳng dữ liệu để đưa vào lớp kết nối đầy đủ\n",
        "    Flatten(),\n",
        "\n",
        "    #Lớp kết nối đầy đủ thứ nhất với 128 neuron\n",
        "    Dense(128, activation='relu'),\n",
        "\n",
        "    #Lớp kết nối đầy đủ thứ hai với 10 neuron (số lớp cần phân loại)\n",
        "    Dense(10, activation='softmax')\n",
        "\n",
        "])"
      ],
      "metadata": {
        "id": "E8XWNg1NiH4I"
      },
      "execution_count": null,
      "outputs": []
    },
    {
      "cell_type": "code",
      "source": [
        "# Tóm tắt kiến trúc\n",
        "model.summary()"
      ],
      "metadata": {
        "id": "ExkMg-HMjJz8"
      },
      "execution_count": null,
      "outputs": []
    },
    {
      "cell_type": "code",
      "source": [
        "# 4. Biên dịch mô hình\n",
        "model.compile(optimizer='adam',\n",
        "              loss='categorical_crossentropy',\n",
        "              metrics=['accuracy'])"
      ],
      "metadata": {
        "id": "KdPHXNcxjTD3"
      },
      "execution_count": null,
      "outputs": []
    },
    {
      "cell_type": "code",
      "source": [
        "# 5. Huấn luyện mô hình\n",
        "history = model.fit(\n",
        "    x_train,\n",
        "    y_train,\n",
        "    epochs=10,\n",
        "    batch_size=32,\n",
        "    validation_split=0.1,\n",
        "    verbose=1\n",
        ")"
      ],
      "metadata": {
        "id": "PWJ1iJLYjfqr"
      },
      "execution_count": null,
      "outputs": []
    },
    {
      "cell_type": "code",
      "source": [
        "# 6. Đánh giá mô hình\n",
        "test_loss, test_acc = model.evaluate(x_test, y_test)\n",
        "print(f'Độ chính xác trên tập kiểm tra: {test_acc * 100:.2f}%')"
      ],
      "metadata": {
        "id": "FMwlXRZbkPZM"
      },
      "execution_count": null,
      "outputs": []
    },
    {
      "cell_type": "code",
      "source": [
        "# 7. Lưu hình\n",
        "model.save('my_model.h5')"
      ],
      "metadata": {
        "id": "sbODOz-ekXru"
      },
      "execution_count": null,
      "outputs": []
    },
    {
      "cell_type": "code",
      "source": [
        "# 8. Vẽ biểu đồ accuracy và loss value trong quá trình huấn luyện\n",
        "plt.figure(figsize=(12, 4))\n",
        "\n",
        "# Biểu đồ độ chính xác\n",
        "plt.subplot(1, 2, 1)\n",
        "plt.plot(history.history['accuracy'], label='Huấn luyện')\n",
        "plt.plot(history.history['val_accuracy'], label='Validation')\n",
        "plt.title('Độ chính xác mô hình')\n",
        "plt.xlabel('Epoch')\n",
        "plt.ylabel('Độ chính xác')\n",
        "plt.legend()\n",
        "\n",
        "# Biểu đồ mất mát\n",
        "plt.subplot(1, 2, 2)\n",
        "plt.plot(history.history['loss'], label='Huấn luyện')\n",
        "plt.plot(history.history['val_loss'], label='Validation')\n",
        "plt.title('Mất mát mô hình')\n",
        "plt.xlabel('Epoch')\n",
        "plt.ylabel('Mất mát')\n",
        "plt.legend()\n",
        "\n",
        "plt.tight_layout()\n",
        "plt.savefig('training_history.png')\n",
        "plt.show()"
      ],
      "metadata": {
        "id": "YsQrDolAkfVI"
      },
      "execution_count": null,
      "outputs": []
    },
    {
      "cell_type": "code",
      "source": [
        "# 9. Hiển thị một số dự đoán\n",
        "n_samples = 10\n",
        "sample_indices = np.random.choice(len(x_test), n_samples, replace=False)\n",
        "\n",
        "plt.figure(figsize=(15, 3))\n",
        "for i, idx in enumerate(sample_indices):\n",
        "    plt.subplot(1, n_samples, i + 1)\n",
        "    # Convert từ (28, 28, 1) về (28, 28) để hiển thị\n",
        "    plt.imshow(x_test[idx].reshape(28, 28), cmap='gray')\n",
        "\n",
        "    # Dự đoán\n",
        "    pred = model.predict(x_test[idx:idx+1])[0]\n",
        "    pred_label = np.argmax(pred)\n",
        "    true_label = np.argmax(y_test[idx])\n",
        "\n",
        "    # Màu tiêu đề: xanh lá nếu đúng, đỏ nếu sai\n",
        "    title_color = 'green' if pred_label == true_label else 'red'\n",
        "\n",
        "    plt.title(f\"T:{true_label} P:{pred_label}\", color=title_color)\n",
        "    plt.axis('off')\n",
        "\n",
        "plt.tight_layout()\n",
        "plt.savefig('predictions.png')\n",
        "plt.show()"
      ],
      "metadata": {
        "id": "no5dJ3tzlB6q"
      },
      "execution_count": null,
      "outputs": []
    }
  ]
}