{
  "nbformat": 4,
  "nbformat_minor": 0,
  "metadata": {
    "colab": {
      "private_outputs": true,
      "provenance": []
    },
    "kernelspec": {
      "name": "python3",
      "display_name": "Python 3"
    },
    "language_info": {
      "name": "python"
    }
  },
  "cells": [
    {
      "cell_type": "code",
      "execution_count": null,
      "metadata": {
        "id": "Vtk4Rezu4Y06"
      },
      "outputs": [],
      "source": [
        "# Bài thực hành: Phát hiện đối tượng với YOLOv8\n",
        "# -------------------------------------------\n",
        "\n"
      ]
    },
    {
      "cell_type": "code",
      "source": [
        "# Phần 1: Cài đặt và chuẩn bị môi trường\n",
        "# -------------------------------------------\n",
        "# Cài đặt thư viện Ultralytics YOLOv8\n",
        "!pip install ultralytics\n",
        "\n",
        "# Cài đặt các thư viện cần thiết khác\n",
        "!pip install opencv-python matplotlib"
      ],
      "metadata": {
        "id": "GQ12S1X44eri"
      },
      "execution_count": null,
      "outputs": []
    },
    {
      "cell_type": "code",
      "source": [
        "# Import các thư viện\n",
        "import cv2\n",
        "import numpy as np\n",
        "import matplotlib.pyplot as plt\n",
        "import os\n",
        "from ultralytics import YOLO\n",
        "from google.colab import drive\n",
        "from IPython.display import display, Image"
      ],
      "metadata": {
        "id": "jPsIeKcZ4o6X"
      },
      "execution_count": null,
      "outputs": []
    },
    {
      "cell_type": "code",
      "source": [
        "# Mount Google Drive (nếu cần lưu kết quả)\n",
        "drive.mount('/content/drive')\n",
        "\n",
        "# Tạo thư mục để lưu kết quả\n",
        "!mkdir -p /content/results"
      ],
      "metadata": {
        "id": "sHv61KH15GCK"
      },
      "execution_count": null,
      "outputs": []
    },
    {
      "cell_type": "code",
      "source": [
        "# Phần 2: Tải và chuẩn bị mô hình\n",
        "# -------------------------------------------\n",
        "\n",
        "# Tải mô hình YOLOv8 đã được huấn luyện trước\n",
        "model = YOLO('yolov8n.pt')  # sử dụng mô hình YOLOv8 nano\n",
        "\n",
        "# Hiển thị thông tin về mô hình\n",
        "print(f\"Mô hình đã tải: YOLOv8n\")\n",
        "print(f\"Các lớp có thể nhận dạng: {model.names}\")"
      ],
      "metadata": {
        "id": "Ws3X7a4D5Q7z"
      },
      "execution_count": null,
      "outputs": []
    },
    {
      "cell_type": "code",
      "source": [
        "# Phần 3: Thực hiện phát hiện đối tượng trên bộ dữ liệu COCO\n",
        "# -------------------------------------------\n",
        "\n",
        "# Tải một số ảnh mẫu từ bộ dữ liệu COCO\n",
        "!mkdir -p /content/images\n",
        "!wget -q -O /content/images/bus.jpg https://ultralytics.com/images/bus.jpg\n",
        "!wget -q -O /content/images/zidane.jpg https://ultralytics.com/images/zidane.jpg"
      ],
      "metadata": {
        "id": "aKE9ftuP5nDq"
      },
      "execution_count": null,
      "outputs": []
    },
    {
      "cell_type": "code",
      "source": [
        "# Kiểm tra xem ảnh đã tải thành công chưa\n",
        "!ls -la /content/images/"
      ],
      "metadata": {
        "id": "uOhhBHuG57nj"
      },
      "execution_count": null,
      "outputs": []
    },
    {
      "cell_type": "code",
      "source": [
        "# Hiển thị ảnh gốc\n",
        "plt.figure(figsize=(12, 6))\n",
        "plt.subplot(1, 2, 1)\n",
        "img_bus = cv2.imread('/content/images/bus.jpg')\n",
        "if img_bus is not None:\n",
        "    img_bus = cv2.cvtColor(img_bus, cv2.COLOR_BGR2RGB)\n",
        "    plt.imshow(img_bus)\n",
        "    plt.title('Ảnh gốc 1: Bus')\n",
        "    plt.axis('off')\n",
        "else:\n",
        "    print(\"Không thể đọc ảnh bus.jpg\")\n",
        "\n",
        "plt.subplot(1, 2, 2)\n",
        "img_zidane = cv2.imread('/content/images/zidane.jpg')\n",
        "if img_zidane is not None:\n",
        "    img_zidane = cv2.cvtColor(img_zidane, cv2.COLOR_BGR2RGB)\n",
        "    plt.imshow(img_zidane)\n",
        "    plt.title('Ảnh gốc 2: Người')\n",
        "    plt.axis('off')\n",
        "else:\n",
        "    print(\"Không thể đọc ảnh zidane.jpg\")\n",
        "\n",
        "plt.tight_layout()\n",
        "plt.show()"
      ],
      "metadata": {
        "id": "44jtypPX6Bmz"
      },
      "execution_count": null,
      "outputs": []
    },
    {
      "cell_type": "code",
      "source": [
        "# Thực hiện phát hiện đối tượng\n",
        "if os.path.exists('/content/images/bus.jpg') and os.path.exists('/content/images/zidane.jpg'):\n",
        "    results_bus = model('/content/images/bus.jpg')\n",
        "    results_zidane = model('/content/images/zidane.jpg')\n",
        "\n",
        "    # Hiển thị kết quả phát hiện\n",
        "    plt.figure(figsize=(12, 6))\n",
        "\n",
        "    # Ảnh kết quả 1\n",
        "    plt.subplot(1, 2, 1)\n",
        "    res_plotted_bus = results_bus[0].plot()\n",
        "    plt.imshow(cv2.cvtColor(res_plotted_bus, cv2.COLOR_BGR2RGB))\n",
        "    plt.title('Kết quả phát hiện: Bus')\n",
        "    plt.axis('off')\n",
        "\n",
        "    # Ảnh kết quả 2\n",
        "    plt.subplot(1, 2, 2)\n",
        "    res_plotted_zidane = results_zidane[0].plot()\n",
        "    plt.imshow(cv2.cvtColor(res_plotted_zidane, cv2.COLOR_BGR2RGB))\n",
        "    plt.title('Kết quả phát hiện: Người')\n",
        "    plt.axis('off')\n",
        "\n",
        "    plt.tight_layout()\n",
        "    plt.show()\n",
        "\n",
        "      # Phần 4: Phân tích kết quả từ bộ dữ liệu COCO\n",
        "    # -------------------------------------------\n",
        "\n",
        "    # Hiển thị thông tin chi tiết về các đối tượng được phát hiện\n",
        "    print(\"Chi tiết đối tượng phát hiện trong ảnh Bus:\")\n",
        "    for i, result in enumerate(results_bus):\n",
        "        boxes = result.boxes\n",
        "        print(f\"Số lượng đối tượng phát hiện: {len(boxes)}\")\n",
        "\n",
        "        for j, box in enumerate(boxes):\n",
        "            class_id = int(box.cls.item())\n",
        "            confidence = box.conf.item()\n",
        "            coordinates = box.xyxy.tolist()[0]  # [x1, y1, x2, y2]\n",
        "\n",
        "            print(f\"Đối tượng {j+1}:\")\n",
        "            print(f\"  - Lớp: {model.names[class_id]}\")\n",
        "            print(f\"  - Độ tin cậy: {confidence:.2f}\")\n",
        "            print(f\"  - Tọa độ (x1, y1, x2, y2): [{int(coordinates[0])}, {int(coordinates[1])}, {int(coordinates[2])}, {int(coordinates[3])}]\")\n",
        "else:\n",
        "    print(\"Không tìm thấy ảnh mẫu. Vui lòng kiểm tra lại đường dẫn.\")"
      ],
      "metadata": {
        "id": "nJQ5bmqS6Mpw"
      },
      "execution_count": null,
      "outputs": []
    },
    {
      "cell_type": "code",
      "source": [
        "# Phần 5: Thử nghiệm với các ngưỡng tin cậy khác nhau\n",
        "# -------------------------------------------\n",
        "\n",
        "if os.path.exists('/content/images/bus.jpg'):\n",
        "    # Thiết lập ngưỡng tin cậy khác nhau và xem kết quả\n",
        "    confidence_thresholds = [0.25, 0.5, 0.75]\n",
        "\n",
        "    plt.figure(figsize=(15, 10))\n",
        "    for i, conf in enumerate(confidence_thresholds):\n",
        "        # Thực hiện phát hiện với ngưỡng tùy chỉnh\n",
        "        results = model('/content/images/bus.jpg', conf=conf)\n",
        "\n",
        "        # Vẽ kết quả\n",
        "        plt.subplot(1, 3, i+1)\n",
        "        res_plotted = results[0].plot()\n",
        "        plt.imshow(cv2.cvtColor(res_plotted, cv2.COLOR_BGR2RGB))\n",
        "        plt.title(f'Ngưỡng tin cậy: {conf}')\n",
        "        plt.axis('off')\n",
        "\n",
        "    plt.tight_layout()\n",
        "    plt.show()\n",
        "else:\n",
        "    print(\"Không tìm thấy ảnh bus.jpg\")"
      ],
      "metadata": {
        "id": "OGwmrQrr6z2_"
      },
      "execution_count": null,
      "outputs": []
    },
    {
      "cell_type": "code",
      "source": [
        "# Phần 6: Đánh giá hiệu suất của mô hình\n",
        "# -------------------------------------------\n",
        "# So sánh với các biến thể YOLOv8 khác\n",
        "performance_data = {\n",
        "    'Model': ['YOLOv8n', 'YOLOv8s', 'YOLOv8m', 'YOLOv8l', 'YOLOv8x'],\n",
        "    'Size (MB)': [6.7, 21.2, 52.2, 86.0, 130.5],\n",
        "    'mAP50-95 (%)': [37.3, 44.9, 50.2, 52.9, 53.9],\n",
        "    'Speed (ms/image)': [8, 10, 16, 22, 28]\n",
        "}\n",
        "\n",
        "print(\"\\nSo sánh các biến thể của YOLOv8:\")\n",
        "for i in range(len(performance_data['Model'])):\n",
        "    print(f\"{performance_data['Model'][i]}: \"\n",
        "          f\"Size={performance_data['Size (MB)'][i]} MB, \"\n",
        "          f\"mAP={performance_data['mAP50-95 (%)'][i]}%, \"\n",
        "          f\"Speed={performance_data['Speed (ms/image)'][i]} ms/image\")\n"
      ],
      "metadata": {
        "id": "llhTKyYu6_rN"
      },
      "execution_count": null,
      "outputs": []
    }
  ]
}